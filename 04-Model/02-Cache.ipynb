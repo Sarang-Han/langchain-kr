{
 "cells": [
  {
   "cell_type": "markdown",
   "metadata": {},
   "source": [
    "## 캐싱(Caching)\n",
    "\n",
    "LangChain은 LLM을 위한 선택적 캐싱 레이어를 제공합니다.\n",
    "\n",
    "이는 두 가지 이유로 유용합니다.\n",
    "\n",
    "- 동일한 완료를 여러 번 요청하는 경우 LLM 공급자에 대한 **API 호출 횟수를 줄여 비용을 절감**할 수 있습니다.\n",
    "- LLM 제공업체에 대한 **API 호출 횟수를 줄여 애플리케이션의 속도를 높일 수** 있습니다."
   ]
  },
  {
   "cell_type": "code",
   "execution_count": 1,
   "metadata": {},
   "outputs": [
    {
     "data": {
      "text/plain": [
       "True"
      ]
     },
     "execution_count": 1,
     "metadata": {},
     "output_type": "execute_result"
    }
   ],
   "source": [
    "# API KEY를 환경변수로 관리하기 위한 설정 파일\n",
    "from dotenv import load_dotenv\n",
    "\n",
    "# API KEY 정보로드\n",
    "load_dotenv()"
   ]
  },
  {
   "cell_type": "code",
   "execution_count": 2,
   "metadata": {},
   "outputs": [
    {
     "name": "stdout",
     "output_type": "stream",
     "text": [
      "LangSmith 추적을 시작합니다.\n",
      "[프로젝트명]\n",
      "CH04-Models\n"
     ]
    }
   ],
   "source": [
    "# LangSmith 추적을 설정합니다. https://smith.langchain.com\n",
    "# !pip install langchain-teddynote\n",
    "from langchain_teddynote import logging\n",
    "\n",
    "# 프로젝트 이름을 입력합니다.\n",
    "logging.langsmith(\"CH04-Models\")"
   ]
  },
  {
   "cell_type": "markdown",
   "metadata": {},
   "source": [
    "모델과 프롬프트를 생성합니다\n"
   ]
  },
  {
   "cell_type": "code",
   "execution_count": 3,
   "metadata": {},
   "outputs": [],
   "source": [
    "from langchain_openai import ChatOpenAI\n",
    "from langchain_core.prompts import PromptTemplate\n",
    "\n",
    "# 모델을 생성합니다.\n",
    "llm = ChatOpenAI(model_name=\"gpt-3.5-turbo\")\n",
    "\n",
    "# 프롬프트를 생성합니다.\n",
    "prompt = PromptTemplate.from_template(\"{country} 에 대해서 200자 내외로 요약해줘\")\n",
    "\n",
    "# 체인을 생성합니다.\n",
    "chain = prompt | llm"
   ]
  },
  {
   "cell_type": "code",
   "execution_count": null,
   "metadata": {},
   "outputs": [
    {
     "name": "stdout",
     "output_type": "stream",
     "text": [
      "한국은 동아시아에 위치한 대한민국과 조선민주주의인민공화국으로 구성되어 있다. 대한민국은 서울을 수도로 하고 있는 민주주의 국가이며, 세계에서 선진화된 IT 기술, 자동차 및 K-pop 등의 문화 산업으로 유명하다. 조선민주주의인민공화국은 평양을 수도로 하는 공산주의 체제의 국가로, 국제 사회와의 관계가 긴장되어 있는 상태다. 한국은 역사적으로 중국, 일본 및 러시아와의 교류가 많았으며, 한글이라는 독특한 문자를 사용한다. 현대 한국은 경제적으로 발전하고 있으며, 전 세계에서 주목받는 문화와 기술을 보유한 나라로 평가받고 있다.\n",
      "CPU times: user 112 ms, sys: 77 ms, total: 189 ms\n",
      "Wall time: 3.74 s\n"
     ]
    }
   ],
   "source": [
    "%time \n",
    "response = chain.invoke({\"country\": \"한국\"})\n",
    "print(response.content)"
   ]
  },
  {
   "cell_type": "markdown",
   "metadata": {},
   "source": [
    "## InMemoryCache\n",
    "\n",
    "인메모리 캐시를 사용하여 동일 질문에 대한 답변을 저장하고, 캐시에 저장된 답변을 반환합니다."
   ]
  },
  {
   "cell_type": "code",
   "execution_count": 5,
   "metadata": {},
   "outputs": [
    {
     "name": "stdout",
     "output_type": "stream",
     "text": [
      "한국은 동아시아에 위치한 고유의 문화와 역사를 지닌 나라이다. 대한민국과 북한으로 나뉘어 있으며, 수도는 서울에 위치해있다. 1950년대 한반도 전쟁으로 분단되었으며 현재까지도 남북한 간의 긴장 상태가 이어지고 있다. 한국은 경제 발전과 과학기술 분야에서 세계적으로 주목받는 국가로 발전해왔으며 K-pop, K-drama 등의 문화 콘텐츠도 국제적으로 큰 사랑을 받고 있다. 또한 한류 열풍으로 한국음식, 패션, 영화 등이 해외에서도 인기를 끌고 있다. 현재 한반도 평화를 위해 남북관계 개선 노력이 계속되고 있으며, 국제사회에서도 중요한 역할을 하고 있다.\n",
      "CPU times: user 549 ms, sys: 81 ms, total: 630 ms\n",
      "Wall time: 8 s\n"
     ]
    }
   ],
   "source": [
    "%%time\n",
    "from langchain.globals import set_llm_cache\n",
    "from langchain.cache import InMemoryCache\n",
    "\n",
    "# 인메모리 캐시를 사용합니다.\n",
    "set_llm_cache(InMemoryCache())\n",
    "\n",
    "# 체인을 실행합니다.\n",
    "response = chain.invoke({\"country\": \"한국\"})\n",
    "print(response.content)"
   ]
  },
  {
   "cell_type": "code",
   "execution_count": 6,
   "metadata": {},
   "outputs": [
    {
     "name": "stdout",
     "output_type": "stream",
     "text": [
      "한국은 동아시아에 위치한 고유의 문화와 역사를 지닌 나라이다. 대한민국과 북한으로 나뉘어 있으며, 수도는 서울에 위치해있다. 1950년대 한반도 전쟁으로 분단되었으며 현재까지도 남북한 간의 긴장 상태가 이어지고 있다. 한국은 경제 발전과 과학기술 분야에서 세계적으로 주목받는 국가로 발전해왔으며 K-pop, K-drama 등의 문화 콘텐츠도 국제적으로 큰 사랑을 받고 있다. 또한 한류 열풍으로 한국음식, 패션, 영화 등이 해외에서도 인기를 끌고 있다. 현재 한반도 평화를 위해 남북관계 개선 노력이 계속되고 있으며, 국제사회에서도 중요한 역할을 하고 있다.\n",
      "CPU times: user 7.25 ms, sys: 2.68 ms, total: 9.92 ms\n",
      "Wall time: 8.55 ms\n"
     ]
    }
   ],
   "source": [
    "%%time\n",
    "# 체인을 실행합니다.\n",
    "response = chain.invoke({\"country\": \"한국\"})\n",
    "print(response.content)"
   ]
  },
  {
   "cell_type": "markdown",
   "metadata": {},
   "source": [
    "## SQLite Cache\n"
   ]
  },
  {
   "cell_type": "code",
   "execution_count": 7,
   "metadata": {},
   "outputs": [],
   "source": [
    "from langchain_community.cache import SQLiteCache\n",
    "from langchain_core.globals import set_llm_cache\n",
    "import os\n",
    "\n",
    "# 캐시 디렉토리를 생성합니다.\n",
    "if not os.path.exists(\"cache\"):\n",
    "    os.makedirs(\"cache\")\n",
    "\n",
    "# SQLiteCache를 사용합니다.\n",
    "set_llm_cache(SQLiteCache(database_path=\"cache/llm_cache.db\"))"
   ]
  },
  {
   "cell_type": "code",
   "execution_count": 8,
   "metadata": {},
   "outputs": [
    {
     "name": "stdout",
     "output_type": "stream",
     "text": [
      "한국은 동아시아에 위치한 고도로 발전한 현대국가로, 서울이 수도이다. 인구는 약 5천만명으로 밀집된 도시지만 자연환경도 아름다운 곳이 많다. 전 세계적으로 유명한 K-pop과 K-drama를 비롯한 한류 문화를 보유하고 있으며, 한국 요리도 매우 다양하고 맛있는 것으로 유명하다. 또한 IT 기술과 자동차 산업, 선진 의료 기술 등 다양한 분야에서 세계적으로 인정받는 기술력을 보유하고 있다. 역사적으로는 북한과의 분단 문제로 인해 국제적인 관심을 받고 있으며, 미국과의 동맹 관계를 유지하며 국제사회에서 활발한 역할을 수행하고 있다.\n",
      "CPU times: user 44.7 ms, sys: 9.86 ms, total: 54.5 ms\n",
      "Wall time: 3.51 s\n"
     ]
    }
   ],
   "source": [
    "%%time \n",
    "# 체인을 실행합니다.\n",
    "response = chain.invoke({\"country\": \"한국\"})\n",
    "print(response.content)"
   ]
  }
 ],
 "metadata": {
  "kernelspec": {
   "display_name": "langchain-kr (3.11.6)",
   "language": "python",
   "name": "python3"
  },
  "language_info": {
   "codemirror_mode": {
    "name": "ipython",
    "version": 3
   },
   "file_extension": ".py",
   "mimetype": "text/x-python",
   "name": "python",
   "nbconvert_exporter": "python",
   "pygments_lexer": "ipython3",
   "version": "3.11.6"
  }
 },
 "nbformat": 4,
 "nbformat_minor": 2
}
